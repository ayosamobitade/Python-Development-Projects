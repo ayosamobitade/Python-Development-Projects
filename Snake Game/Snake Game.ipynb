{
 "cells": [
  {
   "cell_type": "code",
   "execution_count": 2,
   "metadata": {},
   "outputs": [
    {
     "data": {
      "text/plain": [
       "(5, 0)"
      ]
     },
     "execution_count": 2,
     "metadata": {},
     "output_type": "execute_result"
    }
   ],
   "source": [
    "# import needed libraries\n",
    "\n",
    "import pygame\n",
    "import time\n",
    "import random\n",
    "\n",
    "pygame.init()"
   ]
  },
  {
   "cell_type": "code",
   "execution_count": null,
   "metadata": {},
   "outputs": [],
   "source": [
    "# set colors\n",
    "\n",
    "white = (255, 255, 255)\n",
    "yellow = (255, 255, 102)\n",
    "black = (0, 0, 0)\n",
    "red = (213, 50, 80)\n",
    "green = (0, 255, 0)\n",
    "blue = (50, 153, 213)\n",
    "\n",
    "#setting diplays\n",
    "\n",
    "dis_width = 600\n",
    "dis_height = 400\n",
    "\n",
    "dis = pygame.display.set_mode((dis_width, dis_height))\n",
    "pygame.display.set_caption('My First Snake Game')\n",
    "\n",
    "\n",
    "# time\n",
    "\n",
    "clock = pygame.time.clock()\n",
    "\n",
    "snake_block = 10\n",
    "snake_speed = 15\n",
    "\n",
    "sont_style = pygaame.font.SysFont('bahnschrift', 25)\n",
    "score_font = pygame.font.SysFont('comiscasnsms', 35)\n",
    "\n",
    "def Your_score(score):\n",
    "    value = score_font.render('Your Score:' + str(score), True, yellow)\n",
    "    dis.blit(value, [0,0])\n",
    "    \n",
    "def our_snake(snake_block, snake_list):\n",
    "    for x in snake_list:\n",
    "        pygame.draw.rect(dis, black, [x[0], x[1], snake_block, snake_block])\n",
    "        \n",
    "        \n",
    "def"
   ]
  }
 ],
 "metadata": {
  "kernelspec": {
   "display_name": "Python 3",
   "language": "python",
   "name": "python3"
  },
  "language_info": {
   "codemirror_mode": {
    "name": "ipython",
    "version": 3
   },
   "file_extension": ".py",
   "mimetype": "text/x-python",
   "name": "python",
   "nbconvert_exporter": "python",
   "pygments_lexer": "ipython3",
   "version": "3.7.6"
  }
 },
 "nbformat": 4,
 "nbformat_minor": 4
}
