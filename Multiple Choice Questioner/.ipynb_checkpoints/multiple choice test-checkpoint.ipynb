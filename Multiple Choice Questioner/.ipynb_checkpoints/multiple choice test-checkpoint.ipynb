{
 "cells": [
  {
   "cell_type": "markdown",
   "metadata": {},
   "source": [
    "### Multiple Choice Questions and Grading"
   ]
  },
  {
   "cell_type": "code",
   "execution_count": 1,
   "metadata": {},
   "outputs": [],
   "source": [
    "# set out the questions\n",
    "\n",
    "# import the Question module\n",
    "from Question import Question\n",
    "\n",
    "question_prompts = [\n",
    "    \"What's capital of the United States?\\n(a) New York, \\n(b) Canada \\n(c) WDC\\n\\n\",\n",
    "    \"What is sum of 3 and 5?\\n(a) 6 \\n(b) 8 \\n(c) 19\\n\\n\",\n",
    "    \"Which is a continent?\\n(a) Africa \\n(b) India \\n(c) United States\\n\\n\"\n",
    "]\n",
    "\n",
    "questions = [\n",
    "    Question(question_prompts[0], \"c\"),\n",
    "    Question(question_prompts[1], \"b\"),\n",
    "    Question(question_prompts[2], \"a\")\n",
    "]"
   ]
  },
  {
   "cell_type": "code",
   "execution_count": 2,
   "metadata": {},
   "outputs": [],
   "source": [
    "# function to setout question and grade students\n",
    "\n",
    "def run_test(questions):\n",
    "    score = 0\n",
    "    for question in questions:\n",
    "        answer = input(question.prompt)\n",
    "        if answer == question.answer:\n",
    "            score += 1\n",
    "            \n",
    "    print(\"You got \" + str(score) + \"/\" +  str(len(questions)) + \" correct\")"
   ]
  },
  {
   "cell_type": "code",
   "execution_count": 3,
   "metadata": {},
   "outputs": [
    {
     "name": "stdout",
     "output_type": "stream",
     "text": [
      "What's capital of the United States?\n",
      "(a) New York, \n",
      "(b) Canada \n",
      "(c) WDC\n",
      "\n",
      "a\n",
      "What is sum of 3 and 5?\n",
      "(a) 6 \n",
      "(b) 8 \n",
      "(c) 19\n",
      "\n",
      "c\n",
      "Which is a continent?\n",
      "(a) Africa \n",
      "(b) India \n",
      "(c) United States\n",
      "\n",
      "b\n",
      "You got 0/3 correct\n"
     ]
    }
   ],
   "source": [
    "# run the test\n",
    "\n",
    "run_test(questions)"
   ]
  },
  {
   "cell_type": "code",
   "execution_count": null,
   "metadata": {},
   "outputs": [],
   "source": []
  }
 ],
 "metadata": {
  "kernelspec": {
   "display_name": "Python 3",
   "language": "python",
   "name": "python3"
  },
  "language_info": {
   "codemirror_mode": {
    "name": "ipython",
    "version": 3
   },
   "file_extension": ".py",
   "mimetype": "text/x-python",
   "name": "python",
   "nbconvert_exporter": "python",
   "pygments_lexer": "ipython3",
   "version": "3.7.6"
  }
 },
 "nbformat": 4,
 "nbformat_minor": 4
}
