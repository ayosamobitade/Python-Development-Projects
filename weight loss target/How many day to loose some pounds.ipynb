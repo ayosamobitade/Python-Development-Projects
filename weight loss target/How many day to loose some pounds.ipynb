{
 "cells": [
  {
   "cell_type": "markdown",
   "metadata": {},
   "source": [
    "## How many day to loose some pounds"
   ]
  },
  {
   "cell_type": "code",
   "execution_count": 1,
   "metadata": {},
   "outputs": [],
   "source": [
    "#making progress every week\n",
    "# import the datatime library\n",
    "\n",
    "import datetime"
   ]
  },
  {
   "cell_type": "code",
   "execution_count": 3,
   "metadata": {},
   "outputs": [],
   "source": [
    "#present weight and others\n",
    "\n",
    "current_weight = 220\n",
    "goal_weight = 180\n",
    "avg_lbs_week = 2"
   ]
  },
  {
   "cell_type": "code",
   "execution_count": 4,
   "metadata": {},
   "outputs": [],
   "source": [
    "start_date = datetime.date.today()\n",
    "end_date =start_date"
   ]
  },
  {
   "cell_type": "code",
   "execution_count": 5,
   "metadata": {},
   "outputs": [
    {
     "name": "stdout",
     "output_type": "stream",
     "text": [
      "2022-12-07\n",
      "Reached goal in 20 weeks\n"
     ]
    }
   ],
   "source": [
    "while current_weight > goal_weight:\n",
    "    end_date += datetime.timedelta(days = 7)\n",
    "    current_weight -= avg_lbs_week\n",
    "    \n",
    "    \n",
    "print(end_date)\n",
    "print(f'Reached goal in {(end_date - start_date).days // 7} weeks')"
   ]
  },
  {
   "cell_type": "code",
   "execution_count": null,
   "metadata": {},
   "outputs": [],
   "source": []
  }
 ],
 "metadata": {
  "kernelspec": {
   "display_name": "Python 3",
   "language": "python",
   "name": "python3"
  },
  "language_info": {
   "codemirror_mode": {
    "name": "ipython",
    "version": 3
   },
   "file_extension": ".py",
   "mimetype": "text/x-python",
   "name": "python",
   "nbconvert_exporter": "python",
   "pygments_lexer": "ipython3",
   "version": "3.7.6"
  }
 },
 "nbformat": 4,
 "nbformat_minor": 4
}
