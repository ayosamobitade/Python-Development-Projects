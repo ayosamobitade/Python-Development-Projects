{
 "cells": [
  {
   "cell_type": "code",
   "execution_count": 1,
   "metadata": {},
   "outputs": [],
   "source": [
    "# Import the general models\n",
    "\n",
    "import datetime\n",
    "import calendar"
   ]
  },
  {
   "cell_type": "code",
   "execution_count": 2,
   "metadata": {},
   "outputs": [],
   "source": [
    "# making progress every month\n",
    "#payment detail\n",
    "\n",
    "balance = 5000\n",
    "interest_rate = 13 *.01\n",
    "monthly_payment =500\n"
   ]
  },
  {
   "cell_type": "code",
   "execution_count": 3,
   "metadata": {},
   "outputs": [
    {
     "name": "stdout",
     "output_type": "stream",
     "text": [
      "2022-07-20\n",
      "(4, 31)\n"
     ]
    }
   ],
   "source": [
    "# today's date : starting paying from 1st day next month\n",
    "\n",
    "#today's date\n",
    "today_date = datetime.date.today()\n",
    "print(today_date)\n",
    "\n",
    "\n",
    "# get first days (day of the week) in this month and numbers of days in this month\n",
    "\n",
    "this_month = calendar.monthrange(today_date.year, today_date.month)\n",
    "print(this_month)"
   ]
  },
  {
   "cell_type": "code",
   "execution_count": 4,
   "metadata": {},
   "outputs": [
    {
     "name": "stdout",
     "output_type": "stream",
     "text": [
      "11\n"
     ]
    }
   ],
   "source": [
    "# to get days till end of this month\n",
    "\n",
    "days_till_the_end_of_the_month = this_month[1] - today_date.day\n",
    "\n",
    "print(days_till_the_end_of_the_month)"
   ]
  },
  {
   "cell_type": "code",
   "execution_count": 5,
   "metadata": {},
   "outputs": [
    {
     "name": "stdout",
     "output_type": "stream",
     "text": [
      "2022-08-01\n"
     ]
    }
   ],
   "source": [
    "# date of first day of next month\n",
    "\n",
    "next_month_begins = today_date + datetime.timedelta(days = days_till_the_end_of_the_month + 1)\n",
    "print(next_month_begins)"
   ]
  },
  {
   "cell_type": "code",
   "execution_count": 6,
   "metadata": {},
   "outputs": [
    {
     "ename": "NameError",
     "evalue": "name 'end_date' is not defined",
     "output_type": "error",
     "traceback": [
      "\u001b[1;31m---------------------------------------------------------------------------\u001b[0m",
      "\u001b[1;31mNameError\u001b[0m                                 Traceback (most recent call last)",
      "\u001b[1;32m<ipython-input-6-98b615505aef>\u001b[0m in \u001b[0;36m<module>\u001b[1;34m\u001b[0m\n\u001b[0;32m     10\u001b[0m         \u001b[0mbalance\u001b[0m \u001b[1;33m=\u001b[0m \u001b[1;36m0\u001b[0m\u001b[1;33m\u001b[0m\u001b[1;33m\u001b[0m\u001b[0m\n\u001b[0;32m     11\u001b[0m \u001b[1;33m\u001b[0m\u001b[0m\n\u001b[1;32m---> 12\u001b[1;33m     \u001b[0mprint\u001b[0m\u001b[1;33m(\u001b[0m\u001b[0mend_date\u001b[0m\u001b[1;33m,\u001b[0m \u001b[0mbalance\u001b[0m\u001b[1;33m)\u001b[0m\u001b[1;33m\u001b[0m\u001b[1;33m\u001b[0m\u001b[0m\n\u001b[0m\u001b[0;32m     13\u001b[0m \u001b[1;33m\u001b[0m\u001b[0m\n\u001b[0;32m     14\u001b[0m     \u001b[1;31m# get\u001b[0m\u001b[1;33m\u001b[0m\u001b[1;33m\u001b[0m\u001b[1;33m\u001b[0m\u001b[0m\n",
      "\u001b[1;31mNameError\u001b[0m: name 'end_date' is not defined"
     ]
    }
   ],
   "source": [
    "# get monthly remnant\n",
    "\n",
    "while balance > 0:\n",
    "    interest_charge = (interest_rate / 12) * balance\n",
    "    balance += interest_charge\n",
    "    balance -= monthly_payment\n",
    "    \n",
    "    balance = round(balance,2)\n",
    "    if balance < 0:\n",
    "        balance = 0\n",
    "    \n",
    "    print(end_date, balance)\n",
    "    \n",
    "    # get\n",
    "    \n",
    "    days_in_current_month = calendar.monthrange(end_date.year, end_date.month)[1]\n",
    "    end_date = end_date + datetime.timedelta(days = days_in_current_month)\n",
    "\n"
   ]
  },
  {
   "cell_type": "code",
   "execution_count": null,
   "metadata": {},
   "outputs": [],
   "source": []
  },
  {
   "cell_type": "code",
   "execution_count": null,
   "metadata": {},
   "outputs": [],
   "source": []
  }
 ],
 "metadata": {
  "kernelspec": {
   "display_name": "Python 3",
   "language": "python",
   "name": "python3"
  },
  "language_info": {
   "codemirror_mode": {
    "name": "ipython",
    "version": 3
   },
   "file_extension": ".py",
   "mimetype": "text/x-python",
   "name": "python",
   "nbconvert_exporter": "python",
   "pygments_lexer": "ipython3",
   "version": "3.7.6"
  }
 },
 "nbformat": 4,
 "nbformat_minor": 4
}
